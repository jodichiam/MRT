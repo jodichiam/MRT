{
 "cells": [
  {
   "cell_type": "markdown",
   "metadata": {},
   "source": [
    "# Question 1"
   ]
  },
  {
   "cell_type": "code",
   "execution_count": 9,
   "metadata": {
    "collapsed": false
   },
   "outputs": [
    {
     "data": {
      "text/html": [
       "<div>\n",
       "<table border=\"1\" class=\"dataframe\">\n",
       "  <thead>\n",
       "    <tr style=\"text-align: right;\">\n",
       "      <th></th>\n",
       "      <th>index</th>\n",
       "      <th>destination</th>\n",
       "      <th>destination_tm</th>\n",
       "      <th>origin</th>\n",
       "      <th>origin_tm</th>\n",
       "      <th>duration</th>\n",
       "    </tr>\n",
       "  </thead>\n",
       "  <tbody>\n",
       "    <tr>\n",
       "      <th>0</th>\n",
       "      <td>0</td>\n",
       "      <td>Bugis DTL</td>\n",
       "      <td>10:04:47</td>\n",
       "      <td>Stevens</td>\n",
       "      <td>09:52:23</td>\n",
       "      <td>12.40</td>\n",
       "    </tr>\n",
       "    <tr>\n",
       "      <th>1</th>\n",
       "      <td>1</td>\n",
       "      <td>Kent Ridge</td>\n",
       "      <td>10:11:34</td>\n",
       "      <td>Sengkang</td>\n",
       "      <td>09:27:41</td>\n",
       "      <td>43.88</td>\n",
       "    </tr>\n",
       "    <tr>\n",
       "      <th>2</th>\n",
       "      <td>2</td>\n",
       "      <td>Tai Seng</td>\n",
       "      <td>09:35:59</td>\n",
       "      <td>Compassvale</td>\n",
       "      <td>09:03:44</td>\n",
       "      <td>32.25</td>\n",
       "    </tr>\n",
       "    <tr>\n",
       "      <th>3</th>\n",
       "      <td>3</td>\n",
       "      <td>Labrador Park</td>\n",
       "      <td>09:45:50</td>\n",
       "      <td>Bishan NSEW</td>\n",
       "      <td>09:14:45</td>\n",
       "      <td>31.08</td>\n",
       "    </tr>\n",
       "    <tr>\n",
       "      <th>4</th>\n",
       "      <td>4</td>\n",
       "      <td>Joo Koon</td>\n",
       "      <td>09:27:32</td>\n",
       "      <td>Boon Lay</td>\n",
       "      <td>09:20:36</td>\n",
       "      <td>6.93</td>\n",
       "    </tr>\n",
       "  </tbody>\n",
       "</table>\n",
       "</div>"
      ],
      "text/plain": [
       "   index    destination destination_tm       origin origin_tm  duration\n",
       "0      0      Bugis DTL       10:04:47      Stevens  09:52:23     12.40\n",
       "1      1     Kent Ridge       10:11:34     Sengkang  09:27:41     43.88\n",
       "2      2       Tai Seng       09:35:59  Compassvale  09:03:44     32.25\n",
       "3      3  Labrador Park       09:45:50  Bishan NSEW  09:14:45     31.08\n",
       "4      4       Joo Koon       09:27:32     Boon Lay  09:20:36      6.93"
      ]
     },
     "execution_count": 9,
     "metadata": {},
     "output_type": "execute_result"
    }
   ],
   "source": [
    "import pandas as pd\n",
    "import numpy as np\n",
    "import matplotlib.pyplot as plt\n",
    "import networkx as nx\n",
    "%matplotlib inline\n",
    "import warnings\n",
    "warnings.filterwarnings('ignore')\n",
    "import datetime  \n",
    "\n",
    "path = \"/Users/Space/Jodi_MRT/mrt_trips_sampled.csv\"\n",
    "trips = pd.read_csv(path, delimiter = ',')\n",
    "\n",
    "# duration was calculated for each origin-destination pair\n",
    "trips['duration'] = ((pd.to_timedelta(trips.destination_tm.astype(str)) - pd.to_timedelta(trips.origin_tm.astype(str))).astype('timedelta64[s]') / 60).round(2) \n",
    "\n",
    "# change the time to datetime objects\n",
    "trips['destination_tm'] = pd.to_datetime(trips['destination_tm'], format='%H:%M:%S').dt.time\n",
    "trips['origin_tm'] = pd.to_datetime(trips['origin_tm'], format='%H:%M:%S').dt.time\n",
    "\n",
    "trips.head()"
   ]
  },
  {
   "cell_type": "code",
   "execution_count": 10,
   "metadata": {
    "collapsed": false
   },
   "outputs": [
    {
     "name": "stdout",
     "output_type": "stream",
     "text": [
      "['Admiralty', 'Aljunied', 'Ang Mo Kio', 'Bakau', 'Bangkit', 'Bartley', 'Bayfront CCL', 'Bayfront DTL', 'Beauty World', 'Bedok', 'Bishan CCL', 'Bishan NSEW', 'Boon Keng', 'Boon Lay', 'Botanic Gardens CCL', 'Botanic Gardens DTL', 'Braddell', 'Bras Basah', 'Buangkok', 'Bugis DTL', 'Bugis NSEW', 'Bukit Batok', 'Bukit Gombak', 'Bukit Panjang BPLRT', 'Bukit Panjang DTL', 'Buona Vista CCL', 'Buona Vista NSEW', 'Caldecott', 'Cashew', 'Changi Airport', 'Cheng Lim', 'Chinatown DTL', 'Chinatown NEL', 'Chinese Garden', 'Choa Chu Kang', 'Choa Chu Kang BPLRT', 'City Hall', 'Clarke Quay', 'Clementi', 'Commonwealth', 'Compassvale', 'Coral Edge', 'Cove', 'Dakota', 'Damai', 'Dhoby Ghaut NEL', 'Dhoby Ghaut NSEW', 'Dover', 'Downtown', 'Esplanade', 'Eunos', 'Expo NSEW', 'Fajar', 'Farmway', 'Farrer Park', 'Farrer Road', 'Fernvale', 'HarbourFront CCL', 'HarbourFront NEL', 'Haw Par Villa', 'Hillview', 'Holland Village', 'Hougang', 'Jelapang', 'Joo Koon', 'Jurong East', 'Kadaloor', 'Kallang', 'Kangkar', 'Keat Hong', 'Kembangan', 'Kent Ridge', 'Khatib', 'King Albert Park', 'Kovan', 'Kranji', 'Kupang', 'Labrador Park', 'Lakeside', 'Lavender', 'Layar', 'Little India DTL', 'Little India NEL', 'Lorong Chuan', 'MacPherson CCL', 'Marina Bay', 'Marina Bay CCL', 'Marina South Pier', 'Marsiling', 'Marymount', 'Meridian', 'Mountbatten', 'Newton DTL', 'Newton NSEW', 'Nibong', 'Nicoll Highway', 'Novena', 'Oasis', 'Orchard', 'Outram Park NEL', 'Outram Park NSEW', 'Pasir Panjang', 'Pasir Ris', 'Paya Lebar CCL', 'Paya Lebar NSEW', 'Pending', 'Petir', 'Phoenix', 'Pioneer', 'Potong Pasir', 'Promenade', 'Punggol', 'Queenstown', 'Raffles Place', 'Ranggung', 'Redhill', 'Renjong', 'Riviera', 'Rochor', 'Rumbia', 'Sam Kee', 'Segar', 'Sembawang', 'Sengkang', 'Senja', 'Serangoon CCL', 'Serangoon NEL', 'Simei', 'Sixth Avenue', 'Somerset', 'Soo Teck', 'South View', 'Stadium', 'Stevens', 'Sumang', 'Tai Seng', 'Tampines NSEW', 'Tan Kah Kee', 'Tanah Merah', 'Tanjong Pagar', 'Teck Whye', 'Telok Ayer', 'Telok Blangah', 'Ten Mile Junction', 'Thanggam', 'Tiong Bahru', 'Toa Payoh', 'Tongkang', 'Woodlands', 'Woodleigh', 'Yew Tee', 'Yio Chu Kang', 'Yishun', 'one-north']\n"
     ]
    }
   ],
   "source": [
    "unique_MRT = list(set(list(trips.destination.unique()) + list(trips.origin.unique())))\n",
    "unique_MRT.sort()\n",
    "print (unique_MRT)"
   ]
  },
  {
   "cell_type": "markdown",
   "metadata": {},
   "source": [
    "From this, we can identify MRT interchanges having station IDs with similar name but ending with an additonal code.<br>\n",
    "For example, the station Bishan has 'Bishan CCL' and 'Bishan NSEW'.\n"
   ]
  },
  {
   "cell_type": "code",
   "execution_count": 11,
   "metadata": {
    "collapsed": false
   },
   "outputs": [
    {
     "name": "stdout",
     "output_type": "stream",
     "text": [
      "Total MRT stations: 138\n"
     ]
    }
   ],
   "source": [
    "trips2 = trips\n",
    "trips2['destination'] = trips2['destination'].str.replace(' CCL', '')\n",
    "trips2['destination'] = trips2['destination'].str.replace(' NSEW', '')\n",
    "trips2['destination'] = trips2['destination'].str.replace(' NEL', '')\n",
    "trips2['destination'] = trips2['destination'].str.replace(' DTL', '')\n",
    "trips2['destination'] = trips2['destination'].str.replace(' BPLRT', '')\n",
    "trips2['destination'] = trips2['destination'].str.replace(' NEL', '')\n",
    "\n",
    "trips2['origin'] = trips2['origin'].str.replace(' CCL', '')\n",
    "trips2['origin'] = trips2['origin'].str.replace(' NSEW', '')\n",
    "trips2['origin'] = trips2['origin'].str.replace(' NEL', '')\n",
    "trips2['origin'] = trips2['origin'].str.replace(' DTL', '')\n",
    "trips2['origin'] = trips2['origin'].str.replace(' BPLRT', '')\n",
    "trips2['origin'] = trips2['origin'].str.replace(' NEL', '')\n",
    "\n",
    "uni_MRT = list(set(list(trips2.destination.unique()) + list(trips2.origin.unique())))\n",
    "print ('Total MRT stations: ' + str(len(uni_MRT)))"
   ]
  },
  {
   "cell_type": "markdown",
   "metadata": {},
   "source": [
    "The above section was included to remove the MRT line code for interchanges to reduce the number of unique origin-destination (OD) pairs. <br>\n",
    "In addition, in the following section, we removed OD pairs of which the origin and destination are the same station. <br>\n",
    "We also treat edges (A, B) as the same as (B, A) and only kept either one of the permutations."
   ]
  },
  {
   "cell_type": "code",
   "execution_count": 6,
   "metadata": {
    "collapsed": false
   },
   "outputs": [],
   "source": [
    "pairs = trips2[['destination', 'origin', 'duration']]\n",
    "pairs = pairs[pairs.destination != pairs.origin]\n",
    "pairs[['destination', 'origin']] = pairs[['destination', 'origin']].apply(np.sort, axis = 1)"
   ]
  },
  {
   "cell_type": "markdown",
   "metadata": {},
   "source": [
    "In the section below, median was used to calculate the median duration for all the unique OD pairs as it provides the most accurate time taken to tap in and out from one station to another.\n",
    "\n",
    "I previously thought that taking the minimum would be ideal but it resulted in very inaccurate results.\n",
    "<br>\n",
    "Examples are shown in the table below.\n",
    "<table style=\"width:50%\">\n",
    "  <tr>\n",
    "    <th>Destination</th>\n",
    "    <th>Origin</th> \n",
    "    <th>duration</th>\n",
    "  </tr>\n",
    "  <tr>\n",
    "    <td>Ang Mo Kio</td>\n",
    "    <td>Buangkok</td> \n",
    "    <td>1.20</td>\n",
    "  </tr>\n",
    "  <tr>\n",
    "    <td>Bedok</td>\n",
    "    <td>Bugis</td> \n",
    "    <td>1.12</td>\n",
    "  </tr>\n",
    "  <tr>\n",
    "    <td>Changi Airport</td>\n",
    "    <td>Pioneer</td> \n",
    "    <td>1.35</td>\n",
    "  </tr>\n",
    "</table>"
   ]
  },
  {
   "cell_type": "code",
   "execution_count": 19,
   "metadata": {
    "collapsed": false
   },
   "outputs": [
    {
     "data": {
      "text/plain": [
       "(5974, 3)"
      ]
     },
     "execution_count": 19,
     "metadata": {},
     "output_type": "execute_result"
    }
   ],
   "source": [
    "pairs_med = pairs.groupby(['destination', 'origin'])['duration'].median().reset_index()\n",
    "pairs_med.shape "
   ]
  },
  {
   "cell_type": "code",
   "execution_count": 33,
   "metadata": {
    "collapsed": false
   },
   "outputs": [
    {
     "data": {
      "image/png": "[encoded data removed]",
      "text/plain": [
       "<matplotlib.figure.Figure at 0x103219d68>"
      ]
     },
     "metadata": {},
     "output_type": "display_data"
    },
    {
     "data": {
      "text/plain": [
       "count    5974.000000\n",
       "mean       33.030844\n",
       "std        16.201932\n",
       "min         0.650000\n",
       "25%        21.271250\n",
       "50%        31.885000\n",
       "75%        43.600000\n",
       "max       325.520000\n",
       "Name: duration, dtype: float64"
      ]
     },
     "execution_count": 33,
     "metadata": {},
     "output_type": "execute_result"
    }
   ],
   "source": [
    "#histogram of duration of trips\n",
    "pairs_med['duration'].hist(bins=20, alpha=0.5)\n",
    "plt.show()\n",
    "\n",
    "#summary of duration of trips\n",
    "pairs_med['duration'].describe()"
   ]
  },
  {
   "cell_type": "markdown",
   "metadata": {},
   "source": [
    "## Revision 1\n",
    "While we are not supposed to know the underlying network, the stations are coloured to aid visualization."
   ]
  },
  {
   "cell_type": "markdown",
   "metadata": {},
   "source": [
    "For the first revision, with a median duration of less than 5 minutes, we are confident that the origin and destination nodes are adjacent stations given that: <br>\n",
    "<ul>\n",
    "  <li>the approximate train journey between 2 stations is 2 minutes</li>\n",
    "  <li>the walking time from gantry to platform when entering and exiting is 1-3 minutes (average = 2 mins) </li>\n",
    "</ul>\n",
    "\n",
    "Note: we filter using median duration greater than 2 as two OD pairs with a median duration of less than 2 were found to be inaccurate.<br><br>\n",
    "Our approach would be to add in more routes step by step and piece the stations together until we obtain the whole network and thus we proceed to the next revision."
   ]
  },
  {
   "cell_type": "code",
   "execution_count": 86,
   "metadata": {
    "collapsed": false,
    "scrolled": false
   },
   "outputs": [
    {
     "name": "stdout",
     "output_type": "stream",
     "text": [
      "MRT stations: 70\n"
     ]
    }
   ],
   "source": [
    "#first revision\n",
    "gph = pairs_med[(pairs_med.duration >2) & (pairs_med.duration <5)]\n",
    "\n",
    "print ('MRT stations: ' + str(len(list(set(list(gph.destination.unique()) + list(gph.origin.unique()))))))"
   ]
  },
  {
   "cell_type": "markdown",
   "metadata": {},
   "source": [
    "<img src=\"https://dl.dropboxusercontent.com/s/sypl90w5pi84oo9/Screenshot%202017-01-15%2012.12.00.png?dl=0\" style=\"width: 80%; height: 80%\"/>"
   ]
  },
  {
   "cell_type": "markdown",
   "metadata": {},
   "source": [
    "## Revision 2"
   ]
  },
  {
   "cell_type": "code",
   "execution_count": 87,
   "metadata": {
    "collapsed": false
   },
   "outputs": [
    {
     "name": "stdout",
     "output_type": "stream",
     "text": [
      "MRT stations: 115\n"
     ]
    }
   ],
   "source": [
    "#second revision\n",
    "gph2 = pairs_med[(pairs_med.duration >2) & (pairs_med.duration <6)]\n",
    "\n",
    "print ('MRT stations: ' + str(len(list(set(list(gph2.destination.unique()) + list(gph2.origin.unique()))))))"
   ]
  },
  {
   "cell_type": "markdown",
   "metadata": {},
   "source": [
    "For the second revision, with a median duration of less than 6 minutes, we will capture more routes and significantly more stations. <br> \n",
    "We are sure that there will be routes involving either 1 as well as 2 stations. To distinguish between these 2 types of routes, we plot the network graph and compare it with the graph obtained in the first revision.\n"
   ]
  },
  {
   "cell_type": "markdown",
   "metadata": {},
   "source": [
    "<img src=\"https://dl.dropboxusercontent.com/s/g57xpifw2rd2l9l/Screenshot%202017-01-15%2012.14.02.png?dl=0\" \n",
    "style=\"width: 80%; height: 80%\"/>"
   ]
  },
  {
   "cell_type": "markdown",
   "metadata": {},
   "source": [
    "We know that the total number of MRT stations is 138. <br>\n",
    "So we are still short of 23 stations after the second revision."
   ]
  },
  {
   "cell_type": "markdown",
   "metadata": {},
   "source": [
    "## Revision 3"
   ]
  },
  {
   "cell_type": "code",
   "execution_count": 91,
   "metadata": {
    "collapsed": false
   },
   "outputs": [
    {
     "name": "stdout",
     "output_type": "stream",
     "text": [
      "MRT stations: 131\n"
     ]
    }
   ],
   "source": [
    "#third revision\n",
    "gph3 = pairs_med[(pairs_med.duration >2) & (pairs_med.duration <7.5)]\n",
    "print ('MRT stations: ' + str(len(list(set(list(gph3.destination.unique()) + list(gph3.origin.unique()))))))\n",
    "\n",
    "gph3 = pairs_med[(pairs_med.duration >6) & (pairs_med.duration <7.5)]"
   ]
  },
  {
   "cell_type": "markdown",
   "metadata": {},
   "source": [
    "By the third revision, we would have nodes linking up 131 stations. <br>\n",
    "Here, we are only filtering out new routes and storing it into gph3 (routes with median duration greater than 6 and less than 7.5 minutes)"
   ]
  },
  {
   "cell_type": "markdown",
   "metadata": {},
   "source": [
    "Those in black are the new stations that were added from revision 2 to 3."
   ]
  },
  {
   "cell_type": "markdown",
   "metadata": {},
   "source": [
    "<img src=\"https://dl.dropboxusercontent.com/s/r01womb5f5zpnke/Screenshot%202017-01-15%2010.53.43.png?dl=0\" \n",
    "style=\"width: 80%; height: 80%\"/>"
   ]
  },
  {
   "cell_type": "code",
   "execution_count": null,
   "metadata": {
    "collapsed": true
   },
   "outputs": [],
   "source": [
    "#to create the graphs and export them as a gml file\n",
    "\n",
    "#G=nx.from_pandas_dataframe(gph, 'destination', 'origin', edge_attr=['duration'], create_using=nx.Graph())\n",
    "#G=nx.from_pandas_dataframe(gph2, 'destination', 'origin', edge_attr=['duration'], create_using=nx.Graph())\n",
    "G=nx.from_pandas_dataframe(gph3, 'destination', 'origin', edge_attr=['duration'], create_using=nx.Graph())\n",
    "\n",
    "#pos=nx.spring_layout(G)\n",
    "\n",
    "#nx.draw(G,pos)\n",
    "#nx.draw_networkx_edge_labels(G,pos)\n",
    "#plt.show()\n",
    "\n",
    "#export graph as gml object for visualization using Gephi\n",
    "\n",
    "#nx.write_gml(G,\"/Users/Space/Jodi_MRT/graph.gml\")\n",
    "#nx.write_gml(G,\"/Users/Space/Jodi_MRT/graph3.gml\")\n",
    "#nx.write_gml(G,\"/Users/Space/Jodi_MRT/graph4.gml\")"
   ]
  },
  {
   "cell_type": "markdown",
   "metadata": {},
   "source": [
    "Note: As we move from revision 1 to 3 and we gradually increase the duration of travel routes, there will be cases where stations that are not adjacent to each other becomes interlinked. To deduce which nodes are 1 station or 2 stations apart, we have to look at the distances (duration) between the nodes. An example is shown below.\n",
    "\n",
    "We can deduce that Tan Kah Kee and King Albert Park are not linked as the duration between both nodes is significantly larger and a loop involving 3 stations is very unlikely."
   ]
  },
  {
   "cell_type": "markdown",
   "metadata": {},
   "source": [
    "<img src=\"https://dl.dropboxusercontent.com/s/iqtevu48s36scuv/Screenshot%202017-01-17%2000.43.29.png?dl=0\" \n",
    "style=\"width: 40%; height: 40%; float:left\"/>\n",
    "<img src=\"https://dl.dropboxusercontent.com/s/c0kr5v406nzptbu/Screenshot%202017-01-17%2000.43.49.png?dl=0\" \n",
    "style=\"width: 50%; height: 50%\"/>"
   ]
  },
  {
   "cell_type": "markdown",
   "metadata": {},
   "source": [
    "Also from as we move from one revision to the next, more nodes and edges will be pieced together with the new information that is made available. For example, in revision 2, Bishan is only connected to 1 station (Bradell). However, we know that Bishan is an interchange and the edges connecting Bishan to other stations are missing. From the additional edges in revision 3, as shown in the image below, we find more stations that Bishan is connected to."
   ]
  },
  {
   "cell_type": "markdown",
   "metadata": {},
   "source": [
    "<img src=\"https://dl.dropboxusercontent.com/s/oq774fubc3wajku/Screenshot%202017-01-15%2012.18.57.png?dl=0\" \n",
    "style=\"width: 40%; height: 40%\"/>"
   ]
  },
  {
   "cell_type": "markdown",
   "metadata": {},
   "source": [
    "Following from revision 3, this methodology is repeated by fitting additional nodes and edges as more trip record information is available until the whole network is formed."
   ]
  },
  {
   "cell_type": "markdown",
   "metadata": {},
   "source": [
    "# Question 2 "
   ]
  },
  {
   "cell_type": "markdown",
   "metadata": {},
   "source": [
    "Now, assuming that we have constructed the entire MRT network, we start off with the simplest case, namely that the two stations (A and B) lie on the same MRT line.\n",
    "\n",
    "We filter the records for which destination matches station B as the destination time provides a rough gauge as to when the train arrived at each station. \n",
    "\n",
    "However, having all the records which destination matches station B alone is not enough as we might be making an overestimation.\n",
    "First we have to filter out records which origin stations are not on the same line as station A and B.\n",
    "Also, we have to take note that trains arrive at the station from both directions. To prevent over counting, we have to remove records which origin stations are after station B (those records will contain trips that are coming from the opposite direction). \n",
    "\n",
    "Approach:\n",
    "1. Filter for records which destination == station B. \n",
    "2. Filter to remove records which origin stations are not on the same line.\n",
    "3. Filter to remove records which origin stations comes after station B.\n",
    "4. Group by time to count the number of exit records for a particular minute.\n",
    "5. Plot the time series of exit records at B.\n",
    "6. Estimate the number of trains by counting the number of peaks.\n",
    "\n",
    "To demonstrate, we pick the following MRT line and stations:\n",
    "- Line: North East Line\n",
    "- Station A: Sengkang\n",
    "- Station B: Dhoby Ghaut"
   ]
  },
  {
   "cell_type": "code",
   "execution_count": 6,
   "metadata": {
    "collapsed": false
   },
   "outputs": [
    {
     "data": {
      "text/html": [
       "<div>\n",
       "<table border=\"1\" class=\"dataframe\">\n",
       "  <thead>\n",
       "    <tr style=\"text-align: right;\">\n",
       "      <th></th>\n",
       "      <th>destination</th>\n",
       "      <th>origin</th>\n",
       "      <th>destination_tm</th>\n",
       "    </tr>\n",
       "  </thead>\n",
       "  <tbody>\n",
       "    <tr>\n",
       "      <th>129</th>\n",
       "      <td>Dhoby Ghaut</td>\n",
       "      <td>Buangkok</td>\n",
       "      <td>09:39</td>\n",
       "    </tr>\n",
       "    <tr>\n",
       "      <th>196</th>\n",
       "      <td>Dhoby Ghaut</td>\n",
       "      <td>Serangoon</td>\n",
       "      <td>09:58</td>\n",
       "    </tr>\n",
       "    <tr>\n",
       "      <th>283</th>\n",
       "      <td>Dhoby Ghaut</td>\n",
       "      <td>Serangoon</td>\n",
       "      <td>09:24</td>\n",
       "    </tr>\n",
       "    <tr>\n",
       "      <th>805</th>\n",
       "      <td>Dhoby Ghaut</td>\n",
       "      <td>Potong Pasir</td>\n",
       "      <td>09:22</td>\n",
       "    </tr>\n",
       "    <tr>\n",
       "      <th>841</th>\n",
       "      <td>Dhoby Ghaut</td>\n",
       "      <td>Potong Pasir</td>\n",
       "      <td>09:21</td>\n",
       "    </tr>\n",
       "  </tbody>\n",
       "</table>\n",
       "</div>"
      ],
      "text/plain": [
       "     destination        origin destination_tm\n",
       "129  Dhoby Ghaut      Buangkok          09:39\n",
       "196  Dhoby Ghaut     Serangoon          09:58\n",
       "283  Dhoby Ghaut     Serangoon          09:24\n",
       "805  Dhoby Ghaut  Potong Pasir          09:22\n",
       "841  Dhoby Ghaut  Potong Pasir          09:21"
      ]
     },
     "execution_count": 6,
     "metadata": {},
     "output_type": "execute_result"
    }
   ],
   "source": [
    "trips3 = trips2[['destination', 'origin', 'destination_tm']]\n",
    "trips3['destination_tm'] = trips3['destination_tm'].map(lambda t: t.strftime('%H:%M'))\n",
    "\n",
    "#filter out trips with destination as Dhoby Ghaut\n",
    "trips3 = trips3[trips3['destination'] == 'Dhoby Ghaut']\n",
    "\n",
    "#filter out records which origin stations do not belong to the NE line\n",
    "line_NE = ['Punggol', 'Sengkang', 'Buangkok', 'Hougang', 'Kovan', 'Serangoon', 'Woodleigh', 'Potong Pasir', \n",
    "          'Boon Keng', 'Farrer Park', 'Little India', 'Dhoby Ghaut', 'Clarke Quay', 'Chinatown', 'Outram Park'\n",
    "          'HarbourFront']\n",
    "trips3 = trips3[trips3['origin'].isin(line_NE)]\n",
    "\n",
    "#filter out records which origin stations are from Dhoby Ghaut to HabourFront\n",
    "after_B = ['Dhoby Ghaut', 'Clarke Quay', 'Chinatown', 'Outram Park', 'HarbourFront']\n",
    "trips3 = trips3[~trips3['origin'].isin(after_B)]\n",
    "\n",
    "trips3.head()"
   ]
  },
  {
   "cell_type": "code",
   "execution_count": 7,
   "metadata": {
    "collapsed": false
   },
   "outputs": [
    {
     "data": {
      "text/plain": [
       "<matplotlib.axes._subplots.AxesSubplot at 0x10ee7dc50>"
      ]
     },
     "execution_count": 7,
     "metadata": {},
     "output_type": "execute_result"
    },
    {
     "data": {
      "image/png": "[encoded data removed]",
      "text/plain": [
       "<matplotlib.figure.Figure at 0x10ee7bfd0>"
      ]
     },
     "metadata": {},
     "output_type": "display_data"
    }
   ],
   "source": [
    "count_MRT = trips3[['destination', 'destination_tm']].groupby('destination_tm').count().reset_index()\n",
    "\n",
    "# create time series of the number of commuters exiting at Dhoby Ghaut\n",
    "ts_count_MRT = pd.Series(count_MRT['destination'].values, index= count_MRT['destination_tm'])\n",
    "plt.figure(figsize=(32,10))\n",
    "\n",
    "ts_count_MRT.plot()"
   ]
  },
  {
   "cell_type": "markdown",
   "metadata": {},
   "source": [
    "From the time series plot above, we can observe about 22 peaks, meaning approximately 22 trains have passed from station A to B, equating a waiting time of about 4 minutes per train (90 minutes / 22).\n",
    "\n",
    "Following this approach, if station A and B are on different lines, (for example a route from Bishan to Tanah Merah) to count the total number of trains passing through these stations, we would break down the problem into 2 parts as 2 different lines are involved.\n",
    "We first count the number of trains passing from Bishan to Paya Lebar, then count the number of trains passing from Paya Lebar to Tanah Merah and add both values together."
   ]
  },
  {
   "cell_type": "markdown",
   "metadata": {},
   "source": [
    "# Question 3"
   ]
  },
  {
   "cell_type": "markdown",
   "metadata": {},
   "source": [
    "Definition: The number of commuters in the train at Clementi is the number of people right when the train arrives at Clementi (no one has boarded or alighted from the train).\n",
    "\n",
    "Assumptions: \n",
    "- There were no train delays and people who missed the train from the time the previous train departed to before the time the next train arrived made it up the next train\n",
    "- Train frequency is 3 minutes (see below)\n",
    "- Time taken to get to the platform from the gantry is 2 minutes\n",
    "- Depending on the crowd alighting, the time taken to get from the platform from the gantry is 1 - 3 minutes\n",
    "\n",
    "\n",
    "To solve this problem, we work backwards to the time when the train is at Joo Koon (the first station on the East West line) and start counting from an empty train. We then keep track of the number of people who boarded and alighted from the train at each stop at a particular time range and used this information to calculate the number of people in the train (which was at Clementi at 9.25am) at each stop.\n",
    "\n",
    "Train arrival timings: <br>\n",
    "9:08 - Joo Koon<br>\n",
    "9:12 - Pioneer<br>\n",
    "9:14 - Boonlay<br>\n",
    "9:16 - Lakeside<br>\n",
    "9:18 - Chinese Garden<br>\n",
    "9:21 - Jurong East<br>\n",
    "9:25 - Clementi<br>\n",
    "9:27 - Dover<br>\n",
    " &nbsp;&nbsp;&nbsp;&nbsp;&nbsp;&nbsp;&nbsp;&nbsp;&nbsp;&nbsp;&nbsp;&nbsp;&nbsp;   .<br>\n",
    "  &nbsp;&nbsp;&nbsp;&nbsp;&nbsp;&nbsp;&nbsp;&nbsp;&nbsp;&nbsp;&nbsp;&nbsp;&nbsp;  .<br>\n",
    "   &nbsp;&nbsp;&nbsp;&nbsp;&nbsp;&nbsp;&nbsp;&nbsp;&nbsp;&nbsp;&nbsp;&nbsp;&nbsp;  .<br>\n",
    "9:54 - Kallang<br>\n",
    "Note: The travelling time from Clementi to Kallang is about 29 minutes."
   ]
  },
  {
   "cell_type": "markdown",
   "metadata": {},
   "source": [
    "## Find approximate train frequency \n",
    "Train frequency has to be calculated to estimate the time at which the previous train left the station in order to estimate the number of commuters who missed the previous train and would board the next one."
   ]
  },
  {
   "cell_type": "code",
   "execution_count": 12,
   "metadata": {
    "collapsed": false,
    "scrolled": true
   },
   "outputs": [
    {
     "data": {
      "text/plain": [
       "<matplotlib.axes._subplots.AxesSubplot at 0x10ff1cdd8>"
      ]
     },
     "execution_count": 12,
     "metadata": {},
     "output_type": "execute_result"
    },
    {
     "data": {
      "image/png": "[encoded data removed]",
      "text/plain": [
       "<matplotlib.figure.Figure at 0x10ff1cd68>"
      ]
     },
     "metadata": {},
     "output_type": "display_data"
    }
   ],
   "source": [
    "trips3 = trips2[['destination', 'origin', 'destination_tm']]\n",
    "trips3['destination_tm'] = trips3['destination_tm'].map(lambda t: t.strftime('%H:%M'))\n",
    "\n",
    "# Raffles Place is used as it has more people exiting and the spikes are easier to identify\n",
    "trips3 = trips3[trips3['destination'] == 'Raffles Place']\n",
    "\n",
    "find_freq = ['Joo Koon', 'Pioneer', 'Boon Lay', 'Lakeside', 'Chinese Garden', 'Jurong East', 'Clementi', 'Dover', \n",
    "          'Buona Vista', 'Commonwealth', 'Queenstown', 'Redhill', 'Tiong Bahru', 'Outram Park', 'Tanjong Pagar']\n",
    "trips3 = trips3[trips3['origin'].isin(find_freq)]\n",
    "\n",
    "count_MRT = trips3[['destination', 'destination_tm']].groupby('destination_tm').count().reset_index()\n",
    "ts_count_MRT = pd.Series(count_MRT['destination'].values, index= count_MRT['destination_tm'])\n",
    "plt.figure(figsize=(32,10))\n",
    "\n",
    "#plt.figure(figsize=(8,5))\n",
    "\n",
    "ts_count_MRT.plot()"
   ]
  },
  {
   "cell_type": "markdown",
   "metadata": {},
   "source": [
    "About 30 peaks were observed, equating to a train frequency of 3 minutes."
   ]
  },
  {
   "cell_type": "markdown",
   "metadata": {},
   "source": [
    "## Filtering of trips\n",
    "The records have to be filtered to obtain only commuters travelling on the east west line who boarded or alighted from stations Joo Koon to Lavender and are travelling in the direction of Joo Koon towards Pasir Ris."
   ]
  },
  {
   "cell_type": "code",
   "execution_count": 13,
   "metadata": {
    "collapsed": false
   },
   "outputs": [],
   "source": [
    "trips4 = trips2[['destination', 'destination_tm', 'origin', 'origin_tm']]\n",
    "trips4['destination_tm'] = trips4['destination_tm'].map(lambda t: t.strftime('%H:%M'))\n",
    "trips4['origin_tm'] = trips4['origin_tm'].map(lambda t: t.strftime('%H:%M'))\n",
    "\n",
    "EW_line = ['Joo Koon', 'Pioneer', 'Boon Lay', 'Lakeside', 'Chinese Garden', 'Jurong East', 'Clementi', 'Dover', \n",
    "          'Buona Vista', 'Commonwealth', 'Queenstown', 'Redhill', 'Tiong Bahru', 'Outram Park', 'Tanjong Pagar',\n",
    "          'Raffles Place', 'City Hall', 'Bugis', 'Lavender', 'Kallang', 'Aljunied', 'Paya Lebar', 'Eunos',\n",
    "          'Kembangan', 'Bedok', 'Tanah Merah', 'Simei', 'Tampines', 'Pasir Ris', 'Expo', 'Changi Airport']\n",
    "\n",
    "trips5 = pd.DataFrame()\n",
    "for i in range(19):\n",
    "    temp = trips4[(trips4['origin'] == EW_line[i]) & (trips4['destination'].isin(EW_line[(i+1):]))]\n",
    "    trips5 = trips5.append(temp)"
   ]
  },
  {
   "cell_type": "code",
   "execution_count": 14,
   "metadata": {
    "collapsed": false
   },
   "outputs": [],
   "source": [
    "#create board and alight dataframes to query boarding and alighting information from\n",
    "ori = trips5[['origin', 'origin_tm']]\n",
    "dest = trips5[['destination', 'destination_tm']]\n",
    " \n",
    "station = ['Joo Koon', 'Pioneer', 'Boon Lay', 'Lakeside', 'Chinese Garden', 'Jurong East', 'Clementi', 'Dover', \n",
    "          'Buona Vista', 'Commonwealth', 'Queenstown', 'Redhill', 'Tiong Bahru', 'Outram Park', 'Tanjong Pagar',\n",
    "          'Raffles Place', 'City Hall', 'Bugis', 'Lavender']\n",
    "\n",
    "board = ori[ori['origin'].isin(station)]\n",
    "board = board.groupby(['origin_tm', 'origin']).size().reset_index(name='count')\n",
    "alight = dest[dest['destination'].isin(station)]\n",
    "alight = alight.groupby(['destination_tm', 'destination']).size().reset_index(name='count')"
   ]
  },
  {
   "cell_type": "markdown",
   "metadata": {},
   "source": [
    "To count the number of commuters boarding at station A, time T: <br>\n",
    "From the board dataframe, sum the number of records with origin matching 'A' and which origin time >= T - 5 and <= T - 2\n",
    "\n",
    "Explainations: <br>\n",
    "T - 5: the previous train came 3 minutes before (T - 3) and commuters who tapped in at the gantry at (T - 3 - 2) will not catch the train given that the time taken to get from the gantry to the platform is 2 minutes<br>\n",
    "T - 2: commuters who tapped in 2 minutes before train arrival will be able to catch the train\n",
    "\n",
    "To count the number of commuters alighting at station A, time T:<br>\n",
    "From the alight dataframe, sum the number of records with destination matching 'A' and which destination time >= T + 1 and <= T + 3\n",
    "\n",
    "Explaination:<br>\n",
    "The number of commuters alighting will differ and thus the time range to get from the platform to the gantry was set at 1 - 3 minutes."
   ]
  },
  {
   "cell_type": "code",
   "execution_count": 15,
   "metadata": {
    "collapsed": false
   },
   "outputs": [
    {
     "name": "stdout",
     "output_type": "stream",
     "text": [
      "Number of people who boarded at Joo Koon: 36\n"
     ]
    }
   ],
   "source": [
    "jk = sum(board[(board['origin'] == station[0]) & ((board['origin_tm'] >= \"09:03\") & (board['origin_tm'] <= \"09:06\"))]['count'])\n",
    "print ('Number of people who boarded at Joo Koon: ' + str(jk))"
   ]
  },
  {
   "cell_type": "code",
   "execution_count": 315,
   "metadata": {
    "collapsed": false
   },
   "outputs": [
    {
     "name": "stdout",
     "output_type": "stream",
     "text": [
      "Number of people who boarded at Pioneer: 219\n",
      "Number of people who alighted at Pioneer: 0\n"
     ]
    }
   ],
   "source": [
    "pn_b = sum(board[(board['origin'] == station[1]) & ((board['origin_tm'] >= \"09:07\") & (board['origin_tm'] <= \"09:10\"))]['count'])\n",
    "print ('Number of people who boarded at Pioneer: ' + str(pn_b))\n",
    "\n",
    "pn_a = sum(alight[(alight['destination'] == station[1]) & ((alight['destination_tm'] >= \"09:13\") & (alight['destination_tm'] <= \"09:15\"))]['count'])\n",
    "print ('Number of people who alighted at Pioneer: ' + str(pn_a))"
   ]
  },
  {
   "cell_type": "markdown",
   "metadata": {},
   "source": [
    "We repeat this approach for the rest of the stations."
   ]
  },
  {
   "cell_type": "code",
   "execution_count": 17,
   "metadata": {
    "collapsed": false
   },
   "outputs": [
    {
     "data": {
      "text/html": [
       "<div>\n",
       "<table border=\"1\" class=\"dataframe\">\n",
       "  <thead>\n",
       "    <tr style=\"text-align: right;\">\n",
       "      <th></th>\n",
       "      <th>Station</th>\n",
       "      <th>Time</th>\n",
       "      <th>b1</th>\n",
       "      <th>b2</th>\n",
       "      <th>a1</th>\n",
       "      <th>a2</th>\n",
       "      <th>Board</th>\n",
       "      <th>Alight</th>\n",
       "    </tr>\n",
       "  </thead>\n",
       "  <tbody>\n",
       "    <tr>\n",
       "      <th>0</th>\n",
       "      <td>Pioneer</td>\n",
       "      <td>09:12</td>\n",
       "      <td>09:07</td>\n",
       "      <td>09:10</td>\n",
       "      <td>09:13</td>\n",
       "      <td>09:15</td>\n",
       "      <td>219</td>\n",
       "      <td>0</td>\n",
       "    </tr>\n",
       "    <tr>\n",
       "      <th>1</th>\n",
       "      <td>Boon Lay</td>\n",
       "      <td>09:14</td>\n",
       "      <td>09:09</td>\n",
       "      <td>09:12</td>\n",
       "      <td>09:15</td>\n",
       "      <td>09:17</td>\n",
       "      <td>366</td>\n",
       "      <td>51</td>\n",
       "    </tr>\n",
       "    <tr>\n",
       "      <th>2</th>\n",
       "      <td>Lakeside</td>\n",
       "      <td>09:16</td>\n",
       "      <td>09:11</td>\n",
       "      <td>09:14</td>\n",
       "      <td>09:17</td>\n",
       "      <td>09:19</td>\n",
       "      <td>318</td>\n",
       "      <td>24</td>\n",
       "    </tr>\n",
       "    <tr>\n",
       "      <th>3</th>\n",
       "      <td>Chinese Garden</td>\n",
       "      <td>09:18</td>\n",
       "      <td>09:13</td>\n",
       "      <td>09:16</td>\n",
       "      <td>09:19</td>\n",
       "      <td>09:21</td>\n",
       "      <td>84</td>\n",
       "      <td>24</td>\n",
       "    </tr>\n",
       "    <tr>\n",
       "      <th>4</th>\n",
       "      <td>Jurong East</td>\n",
       "      <td>09:21</td>\n",
       "      <td>09:16</td>\n",
       "      <td>09:19</td>\n",
       "      <td>09:22</td>\n",
       "      <td>09:24</td>\n",
       "      <td>210</td>\n",
       "      <td>210</td>\n",
       "    </tr>\n",
       "    <tr>\n",
       "      <th>5</th>\n",
       "      <td>Clementi</td>\n",
       "      <td>09:25</td>\n",
       "      <td>09:20</td>\n",
       "      <td>09:23</td>\n",
       "      <td>09:26</td>\n",
       "      <td>09:28</td>\n",
       "      <td>288</td>\n",
       "      <td>171</td>\n",
       "    </tr>\n",
       "    <tr>\n",
       "      <th>6</th>\n",
       "      <td>Dover</td>\n",
       "      <td>09:27</td>\n",
       "      <td>09:22</td>\n",
       "      <td>09:25</td>\n",
       "      <td>09:28</td>\n",
       "      <td>09:30</td>\n",
       "      <td>48</td>\n",
       "      <td>27</td>\n",
       "    </tr>\n",
       "    <tr>\n",
       "      <th>7</th>\n",
       "      <td>Buona Vista</td>\n",
       "      <td>09:29</td>\n",
       "      <td>09:24</td>\n",
       "      <td>09:27</td>\n",
       "      <td>09:30</td>\n",
       "      <td>09:32</td>\n",
       "      <td>66</td>\n",
       "      <td>87</td>\n",
       "    </tr>\n",
       "    <tr>\n",
       "      <th>8</th>\n",
       "      <td>Commonwealth</td>\n",
       "      <td>09:31</td>\n",
       "      <td>09:26</td>\n",
       "      <td>09:29</td>\n",
       "      <td>09:32</td>\n",
       "      <td>09:34</td>\n",
       "      <td>120</td>\n",
       "      <td>69</td>\n",
       "    </tr>\n",
       "    <tr>\n",
       "      <th>9</th>\n",
       "      <td>Queenstown</td>\n",
       "      <td>09:33</td>\n",
       "      <td>09:28</td>\n",
       "      <td>09:31</td>\n",
       "      <td>09:34</td>\n",
       "      <td>09:36</td>\n",
       "      <td>117</td>\n",
       "      <td>18</td>\n",
       "    </tr>\n",
       "    <tr>\n",
       "      <th>10</th>\n",
       "      <td>Redhill</td>\n",
       "      <td>09:35</td>\n",
       "      <td>09:30</td>\n",
       "      <td>09:33</td>\n",
       "      <td>09:36</td>\n",
       "      <td>09:38</td>\n",
       "      <td>126</td>\n",
       "      <td>36</td>\n",
       "    </tr>\n",
       "    <tr>\n",
       "      <th>11</th>\n",
       "      <td>Tiong Bahru</td>\n",
       "      <td>09:37</td>\n",
       "      <td>09:32</td>\n",
       "      <td>09:35</td>\n",
       "      <td>09:38</td>\n",
       "      <td>09:40</td>\n",
       "      <td>195</td>\n",
       "      <td>75</td>\n",
       "    </tr>\n",
       "    <tr>\n",
       "      <th>12</th>\n",
       "      <td>Outram Park</td>\n",
       "      <td>09:40</td>\n",
       "      <td>09:35</td>\n",
       "      <td>09:38</td>\n",
       "      <td>09:41</td>\n",
       "      <td>09:43</td>\n",
       "      <td>78</td>\n",
       "      <td>81</td>\n",
       "    </tr>\n",
       "    <tr>\n",
       "      <th>13</th>\n",
       "      <td>Tanjong Pagar</td>\n",
       "      <td>09:42</td>\n",
       "      <td>09:37</td>\n",
       "      <td>09:40</td>\n",
       "      <td>09:43</td>\n",
       "      <td>09:45</td>\n",
       "      <td>84</td>\n",
       "      <td>267</td>\n",
       "    </tr>\n",
       "    <tr>\n",
       "      <th>14</th>\n",
       "      <td>Raffles Place</td>\n",
       "      <td>09:45</td>\n",
       "      <td>09:40</td>\n",
       "      <td>09:43</td>\n",
       "      <td>09:46</td>\n",
       "      <td>09:48</td>\n",
       "      <td>39</td>\n",
       "      <td>258</td>\n",
       "    </tr>\n",
       "    <tr>\n",
       "      <th>15</th>\n",
       "      <td>City Hall</td>\n",
       "      <td>09:47</td>\n",
       "      <td>09:42</td>\n",
       "      <td>09:45</td>\n",
       "      <td>09:48</td>\n",
       "      <td>09:50</td>\n",
       "      <td>12</td>\n",
       "      <td>201</td>\n",
       "    </tr>\n",
       "    <tr>\n",
       "      <th>16</th>\n",
       "      <td>Bugis</td>\n",
       "      <td>09:50</td>\n",
       "      <td>09:45</td>\n",
       "      <td>09:48</td>\n",
       "      <td>09:51</td>\n",
       "      <td>09:53</td>\n",
       "      <td>30</td>\n",
       "      <td>171</td>\n",
       "    </tr>\n",
       "    <tr>\n",
       "      <th>17</th>\n",
       "      <td>Lavender</td>\n",
       "      <td>09:52</td>\n",
       "      <td>09:47</td>\n",
       "      <td>09:50</td>\n",
       "      <td>09:53</td>\n",
       "      <td>09:55</td>\n",
       "      <td>51</td>\n",
       "      <td>114</td>\n",
       "    </tr>\n",
       "  </tbody>\n",
       "</table>\n",
       "</div>"
      ],
      "text/plain": [
       "           Station   Time     b1     b2     a1     a2  Board  Alight\n",
       "0          Pioneer  09:12  09:07  09:10  09:13  09:15    219       0\n",
       "1         Boon Lay  09:14  09:09  09:12  09:15  09:17    366      51\n",
       "2         Lakeside  09:16  09:11  09:14  09:17  09:19    318      24\n",
       "3   Chinese Garden  09:18  09:13  09:16  09:19  09:21     84      24\n",
       "4      Jurong East  09:21  09:16  09:19  09:22  09:24    210     210\n",
       "5         Clementi  09:25  09:20  09:23  09:26  09:28    288     171\n",
       "6            Dover  09:27  09:22  09:25  09:28  09:30     48      27\n",
       "7      Buona Vista  09:29  09:24  09:27  09:30  09:32     66      87\n",
       "8     Commonwealth  09:31  09:26  09:29  09:32  09:34    120      69\n",
       "9       Queenstown  09:33  09:28  09:31  09:34  09:36    117      18\n",
       "10         Redhill  09:35  09:30  09:33  09:36  09:38    126      36\n",
       "11     Tiong Bahru  09:37  09:32  09:35  09:38  09:40    195      75\n",
       "12     Outram Park  09:40  09:35  09:38  09:41  09:43     78      81\n",
       "13   Tanjong Pagar  09:42  09:37  09:40  09:43  09:45     84     267\n",
       "14   Raffles Place  09:45  09:40  09:43  09:46  09:48     39     258\n",
       "15       City Hall  09:47  09:42  09:45  09:48  09:50     12     201\n",
       "16           Bugis  09:50  09:45  09:48  09:51  09:53     30     171\n",
       "17        Lavender  09:52  09:47  09:50  09:53  09:55     51     114"
      ]
     },
     "execution_count": 17,
     "metadata": {},
     "output_type": "execute_result"
    }
   ],
   "source": [
    "time = ['09:12','09:14','09:16','09:18','09:21','09:25','09:27','09:29','09:31','09:33','09:35',\n",
    "                                    '09:37','09:40','09:42','09:45','09:47','09:50','09:52']\n",
    "\n",
    "d = {'Station' : station[1:], 'Time' : time }\n",
    "res = pd.DataFrame(d)\n",
    "res['Time'] = pd.to_datetime(res['Time'], format='%H:%M')\n",
    "res['b1'] = res['Time'] - datetime.timedelta(minutes = 5)\n",
    "res['b2'] = res['Time'] - datetime.timedelta(minutes = 2)\n",
    "res['a1'] = res['Time'] + datetime.timedelta(minutes = 1)\n",
    "res['a2'] = res['Time'] + datetime.timedelta(minutes = 3)\n",
    "res['Time'] = res['Time'].map(lambda t: t.strftime('%H:%M'))\n",
    "res['b1'] = res['b1'].map(lambda t: t.strftime('%H:%M'))\n",
    "res['b2'] = res['b2'].map(lambda t: t.strftime('%H:%M'))\n",
    "res['a1'] = res['a1'].map(lambda t: t.strftime('%H:%M'))\n",
    "res['a2'] = res['a2'].map(lambda t: t.strftime('%H:%M'))\n",
    "\n",
    "for index,row in res.iterrows():\n",
    "    res.loc[index,'Board'] =  sum(board[(board['origin'] == res.loc[index, 'Station']) & ((board['origin_tm'] >= res.loc[index, 'b1']) & (board['origin_tm'] <= res.loc[index, 'b2']))]['count'])\n",
    "    res.loc[index, 'Alight'] = sum(alight[(alight['destination'] == res.loc[index, 'Station']) & ((alight['destination_tm'] >= res.loc[index, 'a1']) & (alight['destination_tm'] <= res.loc[index, 'a2']))]['count'])\n",
    "res   "
   ]
  },
  {
   "cell_type": "markdown",
   "metadata": {},
   "source": [
    "Using the formula: <br>\n",
    "Count at current station = count at prev station + no. of commuters who boarded at prev station - no. of commuters who alighted at prev station\n",
    "\n",
    "we counted the number of commuters at each station from Clementi to Kallang."
   ]
  },
  {
   "cell_type": "code",
   "execution_count": 20,
   "metadata": {
    "collapsed": false
   },
   "outputs": [
    {
     "data": {
      "text/html": [
       "<div>\n",
       "<table border=\"1\" class=\"dataframe\">\n",
       "  <thead>\n",
       "    <tr style=\"text-align: right;\">\n",
       "      <th></th>\n",
       "      <th>Station</th>\n",
       "      <th>number_commuter</th>\n",
       "    </tr>\n",
       "  </thead>\n",
       "  <tbody>\n",
       "    <tr>\n",
       "      <th>5</th>\n",
       "      <td>Clementi</td>\n",
       "      <td>924</td>\n",
       "    </tr>\n",
       "    <tr>\n",
       "      <th>6</th>\n",
       "      <td>Dover</td>\n",
       "      <td>1041</td>\n",
       "    </tr>\n",
       "    <tr>\n",
       "      <th>7</th>\n",
       "      <td>Buona Vista</td>\n",
       "      <td>1062</td>\n",
       "    </tr>\n",
       "    <tr>\n",
       "      <th>8</th>\n",
       "      <td>Commonwealth</td>\n",
       "      <td>1041</td>\n",
       "    </tr>\n",
       "    <tr>\n",
       "      <th>9</th>\n",
       "      <td>Queenstown</td>\n",
       "      <td>1092</td>\n",
       "    </tr>\n",
       "    <tr>\n",
       "      <th>10</th>\n",
       "      <td>Redhill</td>\n",
       "      <td>1191</td>\n",
       "    </tr>\n",
       "    <tr>\n",
       "      <th>11</th>\n",
       "      <td>Tiong Bahru</td>\n",
       "      <td>1281</td>\n",
       "    </tr>\n",
       "    <tr>\n",
       "      <th>12</th>\n",
       "      <td>Outram Park</td>\n",
       "      <td>1401</td>\n",
       "    </tr>\n",
       "    <tr>\n",
       "      <th>13</th>\n",
       "      <td>Tanjong Pagar</td>\n",
       "      <td>1398</td>\n",
       "    </tr>\n",
       "    <tr>\n",
       "      <th>14</th>\n",
       "      <td>Raffles Place</td>\n",
       "      <td>1215</td>\n",
       "    </tr>\n",
       "    <tr>\n",
       "      <th>15</th>\n",
       "      <td>City Hall</td>\n",
       "      <td>996</td>\n",
       "    </tr>\n",
       "    <tr>\n",
       "      <th>16</th>\n",
       "      <td>Bugis</td>\n",
       "      <td>807</td>\n",
       "    </tr>\n",
       "    <tr>\n",
       "      <th>17</th>\n",
       "      <td>Lavender</td>\n",
       "      <td>666</td>\n",
       "    </tr>\n",
       "    <tr>\n",
       "      <th>18</th>\n",
       "      <td>Kallang</td>\n",
       "      <td>603</td>\n",
       "    </tr>\n",
       "  </tbody>\n",
       "</table>\n",
       "</div>"
      ],
      "text/plain": [
       "          Station  number_commuter\n",
       "5        Clementi              924\n",
       "6           Dover             1041\n",
       "7     Buona Vista             1062\n",
       "8    Commonwealth             1041\n",
       "9      Queenstown             1092\n",
       "10        Redhill             1191\n",
       "11    Tiong Bahru             1281\n",
       "12    Outram Park             1401\n",
       "13  Tanjong Pagar             1398\n",
       "14  Raffles Place             1215\n",
       "15      City Hall              996\n",
       "16          Bugis              807\n",
       "17       Lavender              666\n",
       "18        Kallang              603"
      ]
     },
     "execution_count": 20,
     "metadata": {},
     "output_type": "execute_result"
    }
   ],
   "source": [
    "df = {'Station' : station[1:] + ['Kallang']}\n",
    "res_final = pd.DataFrame(df)\n",
    "no_com = [jk]\n",
    "for i in range(18):\n",
    "    no_com.append(int(no_com[i] + res.loc[i, 'Board'] - res.loc[i, 'Alight']))\n",
    "res_final['number_commuter'] = no_com\n",
    "res_final.loc[5:,]"
   ]
  },
  {
   "cell_type": "markdown",
   "metadata": {
    "collapsed": true
   },
   "source": [
    "Note: The following cases were not accounted for<br>\n",
    "\n",
    "- Commuters who boarded the train from other lines and switched to the green line\n",
    "- Communters who boarded the train, rode a few stops on the green line and then transferred to another line\n"
   ]
  }
 ],
 "metadata": {
  "kernelspec": {
   "display_name": "Python 3",
   "language": "python",
   "name": "python3"
  },
  "language_info": {
   "codemirror_mode": {
    "name": "ipython",
    "version": 3
   },
   "file_extension": ".py",
   "mimetype": "text/x-python",
   "name": "python",
   "nbconvert_exporter": "python",
   "pygments_lexer": "ipython3",
   "version": "3.5.1"
  }
 },
 "nbformat": 4,
 "nbformat_minor": 0
}
